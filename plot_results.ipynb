{
 "cells": [
  {
   "cell_type": "code",
   "execution_count": 1,
   "metadata": {},
   "outputs": [],
   "source": [
    "import pandas as pd\n",
    "import numpy as np\n",
    "import os\n",
    "import matplotlib.pyplot as plt\n",
    "import matplotlib\n",
    "FS=16\n",
    "matplotlib.rcParams.update({'font.size': FS}) # set font size"
   ]
  },
  {
   "cell_type": "markdown",
   "metadata": {},
   "source": [
    "## Exploring results files\n",
    "Lets examine the current folder to see which parameter sweeps are available."
   ]
  },
  {
   "cell_type": "code",
   "execution_count": 2,
   "metadata": {},
   "outputs": [
    {
     "data": {
      "text/html": [
       "<div>\n",
       "<style scoped>\n",
       "    .dataframe tbody tr th:only-of-type {\n",
       "        vertical-align: middle;\n",
       "    }\n",
       "\n",
       "    .dataframe tbody tr th {\n",
       "        vertical-align: top;\n",
       "    }\n",
       "\n",
       "    .dataframe thead th {\n",
       "        text-align: right;\n",
       "    }\n",
       "</style>\n",
       "<table border=\"1\" class=\"dataframe\">\n",
       "  <thead>\n",
       "    <tr style=\"text-align: right;\">\n",
       "      <th></th>\n",
       "      <th>Dates</th>\n",
       "      <th>Parameter</th>\n",
       "    </tr>\n",
       "  </thead>\n",
       "  <tbody>\n",
       "    <tr>\n",
       "      <th>0</th>\n",
       "      <td>20181016-135040</td>\n",
       "      <td>p_erdos_renyi</td>\n",
       "    </tr>\n",
       "  </tbody>\n",
       "</table>\n",
       "</div>"
      ],
      "text/plain": [
       "             Dates      Parameter\n",
       "0  20181016-135040  p_erdos_renyi"
      ]
     },
     "metadata": {},
     "output_type": "display_data"
    }
   ],
   "source": [
    "files=os.listdir(os.getcwd())\n",
    "dates=set()\n",
    "params=[]\n",
    "for file in files:\n",
    "    if \".csv\" in file:\n",
    "        dates.add(file.split('_')[-1].split('.')[0])\n",
    "dates=sorted(list(dates),reverse=True)\n",
    "for date in dates:\n",
    "    for file in files:\n",
    "        if date in file:\n",
    "            startind=file.find('results_')+8\n",
    "            endind=file.find('_sweep',startind)\n",
    "            params.append(file[startind:endind])\n",
    "            break\n",
    "file_df=pd.DataFrame()\n",
    "file_df['Dates']=dates\n",
    "file_df['Parameter']=params\n",
    "display(file_df)"
   ]
  },
  {
   "cell_type": "markdown",
   "metadata": {},
   "source": [
    "The functions below will be used to create a dataframe with the data from the csv files."
   ]
  },
  {
   "cell_type": "code",
   "execution_count": 3,
   "metadata": {},
   "outputs": [],
   "source": [
    "def get_param_val_run(df):\n",
    "    params=[]\n",
    "    vals=[]\n",
    "    runs=[]\n",
    "    for col in df.index:\n",
    "        col=col.replace(',','=')\n",
    "        tmp_list=col.split(\"=\")\n",
    "        params.append(tmp_list[0].replace(' ',''))\n",
    "        vals.append(tmp_list[1].replace(' ',''))\n",
    "        runs.append(int(tmp_list[3].replace(' ','')))\n",
    "    df['parameter']=params\n",
    "    df['parameter value']=vals\n",
    "    df['run number']=runs\n",
    "    return df.reset_index()\n",
    "def update_data_frames(w_df,A_df,f_df,e_df):\n",
    "    w_df=get_param_val_run(w_df.T)\n",
    "    A_df=get_param_val_run(A_df.T)\n",
    "    f_df=get_param_val_run(f_df.T)\n",
    "    try: \n",
    "        e_df=get_param_val_run(e_df.T)\n",
    "        return w_df,A_df,f_df,e_df\n",
    "    except:\n",
    "        return w_df,A_df,f_df,None"
   ]
  },
  {
   "cell_type": "markdown",
   "metadata": {},
   "source": [
    "## Displaying results \n",
    "Now, we can import the data from the csv files, clean up the data types and display the last few rows in the resulting dataframes.  "
   ]
  },
  {
   "cell_type": "code",
   "execution_count": 4,
   "metadata": {},
   "outputs": [
    {
     "data": {
      "text/html": [
       "<div>\n",
       "<style scoped>\n",
       "    .dataframe tbody tr th:only-of-type {\n",
       "        vertical-align: middle;\n",
       "    }\n",
       "\n",
       "    .dataframe tbody tr th {\n",
       "        vertical-align: top;\n",
       "    }\n",
       "\n",
       "    .dataframe thead th {\n",
       "        text-align: right;\n",
       "    }\n",
       "</style>\n",
       "<table border=\"1\" class=\"dataframe\">\n",
       "  <thead>\n",
       "    <tr style=\"text-align: right;\">\n",
       "      <th></th>\n",
       "      <th>index</th>\n",
       "      <th>Maximum absolute deviation</th>\n",
       "      <th>Mean absolute deviation</th>\n",
       "      <th>Maximum relative deviation (%)</th>\n",
       "      <th>Mean relative deviation (%)</th>\n",
       "      <th>Correlation</th>\n",
       "      <th>parameter</th>\n",
       "      <th>parameter value</th>\n",
       "      <th>run number</th>\n",
       "    </tr>\n",
       "  </thead>\n",
       "  <tbody>\n",
       "    <tr>\n",
       "      <th>85</th>\n",
       "      <td>p_erdos_renyi = 0.9, run =5</td>\n",
       "      <td>0.004039</td>\n",
       "      <td>0.002183</td>\n",
       "      <td>6.906713</td>\n",
       "      <td>3.299848</td>\n",
       "      <td>0.999846</td>\n",
       "      <td>p_erdos_renyi</td>\n",
       "      <td>0.9</td>\n",
       "      <td>5</td>\n",
       "    </tr>\n",
       "    <tr>\n",
       "      <th>86</th>\n",
       "      <td>p_erdos_renyi = 0.9, run =6</td>\n",
       "      <td>0.017148</td>\n",
       "      <td>0.007180</td>\n",
       "      <td>30.012209</td>\n",
       "      <td>10.851845</td>\n",
       "      <td>0.996141</td>\n",
       "      <td>p_erdos_renyi</td>\n",
       "      <td>0.9</td>\n",
       "      <td>6</td>\n",
       "    </tr>\n",
       "    <tr>\n",
       "      <th>87</th>\n",
       "      <td>p_erdos_renyi = 0.9, run =7</td>\n",
       "      <td>0.016479</td>\n",
       "      <td>0.003754</td>\n",
       "      <td>21.793308</td>\n",
       "      <td>5.437335</td>\n",
       "      <td>0.996932</td>\n",
       "      <td>p_erdos_renyi</td>\n",
       "      <td>0.9</td>\n",
       "      <td>7</td>\n",
       "    </tr>\n",
       "    <tr>\n",
       "      <th>88</th>\n",
       "      <td>p_erdos_renyi = 0.9, run =8</td>\n",
       "      <td>0.005446</td>\n",
       "      <td>0.002313</td>\n",
       "      <td>5.065963</td>\n",
       "      <td>3.183578</td>\n",
       "      <td>0.999842</td>\n",
       "      <td>p_erdos_renyi</td>\n",
       "      <td>0.9</td>\n",
       "      <td>8</td>\n",
       "    </tr>\n",
       "    <tr>\n",
       "      <th>89</th>\n",
       "      <td>p_erdos_renyi = 0.9, run =9</td>\n",
       "      <td>0.015986</td>\n",
       "      <td>0.004174</td>\n",
       "      <td>18.555702</td>\n",
       "      <td>5.920555</td>\n",
       "      <td>0.996909</td>\n",
       "      <td>p_erdos_renyi</td>\n",
       "      <td>0.9</td>\n",
       "      <td>9</td>\n",
       "    </tr>\n",
       "  </tbody>\n",
       "</table>\n",
       "</div>"
      ],
      "text/plain": [
       "                          index  Maximum absolute deviation  \\\n",
       "85  p_erdos_renyi = 0.9, run =5                    0.004039   \n",
       "86  p_erdos_renyi = 0.9, run =6                    0.017148   \n",
       "87  p_erdos_renyi = 0.9, run =7                    0.016479   \n",
       "88  p_erdos_renyi = 0.9, run =8                    0.005446   \n",
       "89  p_erdos_renyi = 0.9, run =9                    0.015986   \n",
       "\n",
       "    Mean absolute deviation  Maximum relative deviation (%)  \\\n",
       "85                 0.002183                        6.906713   \n",
       "86                 0.007180                       30.012209   \n",
       "87                 0.003754                       21.793308   \n",
       "88                 0.002313                        5.065963   \n",
       "89                 0.004174                       18.555702   \n",
       "\n",
       "    Mean relative deviation (%)  Correlation      parameter parameter value  \\\n",
       "85                     3.299848     0.999846  p_erdos_renyi             0.9   \n",
       "86                    10.851845     0.996141  p_erdos_renyi             0.9   \n",
       "87                     5.437335     0.996932  p_erdos_renyi             0.9   \n",
       "88                     3.183578     0.999842  p_erdos_renyi             0.9   \n",
       "89                     5.920555     0.996909  p_erdos_renyi             0.9   \n",
       "\n",
       "    run number  \n",
       "85           5  \n",
       "86           6  \n",
       "87           7  \n",
       "88           8  \n",
       "89           9  "
      ]
     },
     "metadata": {},
     "output_type": "display_data"
    },
    {
     "data": {
      "text/html": [
       "<div>\n",
       "<style scoped>\n",
       "    .dataframe tbody tr th:only-of-type {\n",
       "        vertical-align: middle;\n",
       "    }\n",
       "\n",
       "    .dataframe tbody tr th {\n",
       "        vertical-align: top;\n",
       "    }\n",
       "\n",
       "    .dataframe thead th {\n",
       "        text-align: right;\n",
       "    }\n",
       "</style>\n",
       "<table border=\"1\" class=\"dataframe\">\n",
       "  <thead>\n",
       "    <tr style=\"text-align: right;\">\n",
       "      <th></th>\n",
       "      <th>index</th>\n",
       "      <th>Number of errors</th>\n",
       "      <th>Error rate</th>\n",
       "      <th>Area under ROC curve</th>\n",
       "      <th>Best f1 score</th>\n",
       "      <th>Threshold for best f1 score</th>\n",
       "      <th>Threshold range for &gt;90.0% of best f1 score</th>\n",
       "      <th>parameter</th>\n",
       "      <th>parameter value</th>\n",
       "      <th>run number</th>\n",
       "    </tr>\n",
       "  </thead>\n",
       "  <tbody>\n",
       "    <tr>\n",
       "      <th>85</th>\n",
       "      <td>p_erdos_renyi = 0.9, run =5</td>\n",
       "      <td>0.0</td>\n",
       "      <td>0.0</td>\n",
       "      <td>1.0</td>\n",
       "      <td>1.0</td>\n",
       "      <td>0.09503380209207535</td>\n",
       "      <td>[0.00784346, 0.93264717]</td>\n",
       "      <td>p_erdos_renyi</td>\n",
       "      <td>0.9</td>\n",
       "      <td>5</td>\n",
       "    </tr>\n",
       "    <tr>\n",
       "      <th>86</th>\n",
       "      <td>p_erdos_renyi = 0.9, run =6</td>\n",
       "      <td>2.0</td>\n",
       "      <td>4.444444444444445</td>\n",
       "      <td>0.8345864661654134</td>\n",
       "      <td>0.9736842105263158</td>\n",
       "      <td>0.278704971075058</td>\n",
       "      <td>[0.01960808, 0.8148005]</td>\n",
       "      <td>p_erdos_renyi</td>\n",
       "      <td>0.9</td>\n",
       "      <td>6</td>\n",
       "    </tr>\n",
       "    <tr>\n",
       "      <th>87</th>\n",
       "      <td>p_erdos_renyi = 0.9, run =7</td>\n",
       "      <td>1.0</td>\n",
       "      <td>2.2222222222222223</td>\n",
       "      <td>0.981203007518797</td>\n",
       "      <td>0.9866666666666666</td>\n",
       "      <td>0.1452215611934662</td>\n",
       "      <td>[0.016503604, 0.9307174]</td>\n",
       "      <td>p_erdos_renyi</td>\n",
       "      <td>0.9</td>\n",
       "      <td>7</td>\n",
       "    </tr>\n",
       "    <tr>\n",
       "      <th>88</th>\n",
       "      <td>p_erdos_renyi = 0.9, run =8</td>\n",
       "      <td>0.0</td>\n",
       "      <td>0.0</td>\n",
       "      <td>1.0</td>\n",
       "      <td>1.0</td>\n",
       "      <td>0.07197313755750656</td>\n",
       "      <td>[0.015960667, 0.93192095]</td>\n",
       "      <td>p_erdos_renyi</td>\n",
       "      <td>0.9</td>\n",
       "      <td>8</td>\n",
       "    </tr>\n",
       "    <tr>\n",
       "      <th>89</th>\n",
       "      <td>p_erdos_renyi = 0.9, run =9</td>\n",
       "      <td>1.0</td>\n",
       "      <td>2.2222222222222223</td>\n",
       "      <td>0.9887218045112782</td>\n",
       "      <td>0.9866666666666666</td>\n",
       "      <td>0.1351889818906784</td>\n",
       "      <td>[0.0062642205, 0.93232316]</td>\n",
       "      <td>p_erdos_renyi</td>\n",
       "      <td>0.9</td>\n",
       "      <td>9</td>\n",
       "    </tr>\n",
       "  </tbody>\n",
       "</table>\n",
       "</div>"
      ],
      "text/plain": [
       "                          index Number of errors          Error rate  \\\n",
       "85  p_erdos_renyi = 0.9, run =5              0.0                 0.0   \n",
       "86  p_erdos_renyi = 0.9, run =6              2.0   4.444444444444445   \n",
       "87  p_erdos_renyi = 0.9, run =7              1.0  2.2222222222222223   \n",
       "88  p_erdos_renyi = 0.9, run =8              0.0                 0.0   \n",
       "89  p_erdos_renyi = 0.9, run =9              1.0  2.2222222222222223   \n",
       "\n",
       "   Area under ROC curve       Best f1 score Threshold for best f1 score  \\\n",
       "85                  1.0                 1.0         0.09503380209207535   \n",
       "86   0.8345864661654134  0.9736842105263158           0.278704971075058   \n",
       "87    0.981203007518797  0.9866666666666666          0.1452215611934662   \n",
       "88                  1.0                 1.0         0.07197313755750656   \n",
       "89   0.9887218045112782  0.9866666666666666          0.1351889818906784   \n",
       "\n",
       "   Threshold range for >90.0% of best f1 score      parameter parameter value  \\\n",
       "85                    [0.00784346, 0.93264717]  p_erdos_renyi             0.9   \n",
       "86                     [0.01960808, 0.8148005]  p_erdos_renyi             0.9   \n",
       "87                    [0.016503604, 0.9307174]  p_erdos_renyi             0.9   \n",
       "88                   [0.015960667, 0.93192095]  p_erdos_renyi             0.9   \n",
       "89                  [0.0062642205, 0.93232316]  p_erdos_renyi             0.9   \n",
       "\n",
       "    run number  \n",
       "85           5  \n",
       "86           6  \n",
       "87           7  \n",
       "88           8  \n",
       "89           9  "
      ]
     },
     "metadata": {},
     "output_type": "display_data"
    },
    {
     "data": {
      "text/html": [
       "<div>\n",
       "<style scoped>\n",
       "    .dataframe tbody tr th:only-of-type {\n",
       "        vertical-align: middle;\n",
       "    }\n",
       "\n",
       "    .dataframe tbody tr th {\n",
       "        vertical-align: top;\n",
       "    }\n",
       "\n",
       "    .dataframe thead th {\n",
       "        text-align: right;\n",
       "    }\n",
       "</style>\n",
       "<table border=\"1\" class=\"dataframe\">\n",
       "  <thead>\n",
       "    <tr style=\"text-align: right;\">\n",
       "      <th></th>\n",
       "      <th>index</th>\n",
       "      <th>Area between predicted and true coupling function</th>\n",
       "      <th>Area between true coupling function and axis</th>\n",
       "      <th>Area ratio</th>\n",
       "      <th>parameter</th>\n",
       "      <th>parameter value</th>\n",
       "      <th>run number</th>\n",
       "    </tr>\n",
       "  </thead>\n",
       "  <tbody>\n",
       "    <tr>\n",
       "      <th>85</th>\n",
       "      <td>p_erdos_renyi = 0.9, run =5</td>\n",
       "      <td>0.134251</td>\n",
       "      <td>3.999997</td>\n",
       "      <td>0.033563</td>\n",
       "      <td>p_erdos_renyi</td>\n",
       "      <td>0.9</td>\n",
       "      <td>5</td>\n",
       "    </tr>\n",
       "    <tr>\n",
       "      <th>86</th>\n",
       "      <td>p_erdos_renyi = 0.9, run =6</td>\n",
       "      <td>0.137225</td>\n",
       "      <td>3.999997</td>\n",
       "      <td>0.034306</td>\n",
       "      <td>p_erdos_renyi</td>\n",
       "      <td>0.9</td>\n",
       "      <td>6</td>\n",
       "    </tr>\n",
       "    <tr>\n",
       "      <th>87</th>\n",
       "      <td>p_erdos_renyi = 0.9, run =7</td>\n",
       "      <td>0.116561</td>\n",
       "      <td>3.999997</td>\n",
       "      <td>0.029140</td>\n",
       "      <td>p_erdos_renyi</td>\n",
       "      <td>0.9</td>\n",
       "      <td>7</td>\n",
       "    </tr>\n",
       "    <tr>\n",
       "      <th>88</th>\n",
       "      <td>p_erdos_renyi = 0.9, run =8</td>\n",
       "      <td>0.100097</td>\n",
       "      <td>3.999997</td>\n",
       "      <td>0.025024</td>\n",
       "      <td>p_erdos_renyi</td>\n",
       "      <td>0.9</td>\n",
       "      <td>8</td>\n",
       "    </tr>\n",
       "    <tr>\n",
       "      <th>89</th>\n",
       "      <td>p_erdos_renyi = 0.9, run =9</td>\n",
       "      <td>0.200092</td>\n",
       "      <td>3.999997</td>\n",
       "      <td>0.050023</td>\n",
       "      <td>p_erdos_renyi</td>\n",
       "      <td>0.9</td>\n",
       "      <td>9</td>\n",
       "    </tr>\n",
       "  </tbody>\n",
       "</table>\n",
       "</div>"
      ],
      "text/plain": [
       "                          index  \\\n",
       "85  p_erdos_renyi = 0.9, run =5   \n",
       "86  p_erdos_renyi = 0.9, run =6   \n",
       "87  p_erdos_renyi = 0.9, run =7   \n",
       "88  p_erdos_renyi = 0.9, run =8   \n",
       "89  p_erdos_renyi = 0.9, run =9   \n",
       "\n",
       "    Area between predicted and true coupling function  \\\n",
       "85                                           0.134251   \n",
       "86                                           0.137225   \n",
       "87                                           0.116561   \n",
       "88                                           0.100097   \n",
       "89                                           0.200092   \n",
       "\n",
       "    Area between true coupling function and axis  Area ratio      parameter  \\\n",
       "85                                      3.999997    0.033563  p_erdos_renyi   \n",
       "86                                      3.999997    0.034306  p_erdos_renyi   \n",
       "87                                      3.999997    0.029140  p_erdos_renyi   \n",
       "88                                      3.999997    0.025024  p_erdos_renyi   \n",
       "89                                      3.999997    0.050023  p_erdos_renyi   \n",
       "\n",
       "   parameter value  run number  \n",
       "85             0.9           5  \n",
       "86             0.9           6  \n",
       "87             0.9           7  \n",
       "88             0.9           8  \n",
       "89             0.9           9  "
      ]
     },
     "metadata": {},
     "output_type": "display_data"
    },
    {
     "data": {
      "text/html": [
       "<div>\n",
       "<style scoped>\n",
       "    .dataframe tbody tr th:only-of-type {\n",
       "        vertical-align: middle;\n",
       "    }\n",
       "\n",
       "    .dataframe tbody tr th {\n",
       "        vertical-align: top;\n",
       "    }\n",
       "\n",
       "    .dataframe thead th {\n",
       "        text-align: right;\n",
       "    }\n",
       "</style>\n",
       "<table border=\"1\" class=\"dataframe\">\n",
       "  <thead>\n",
       "    <tr style=\"text-align: right;\">\n",
       "      <th></th>\n",
       "      <th>index</th>\n",
       "      <th>Final validation error</th>\n",
       "      <th>parameter</th>\n",
       "      <th>parameter value</th>\n",
       "      <th>run number</th>\n",
       "    </tr>\n",
       "  </thead>\n",
       "  <tbody>\n",
       "    <tr>\n",
       "      <th>85</th>\n",
       "      <td>p_erdos_renyi = 0.9, run =5</td>\n",
       "      <td>0.000016</td>\n",
       "      <td>p_erdos_renyi</td>\n",
       "      <td>0.9</td>\n",
       "      <td>5</td>\n",
       "    </tr>\n",
       "    <tr>\n",
       "      <th>86</th>\n",
       "      <td>p_erdos_renyi = 0.9, run =6</td>\n",
       "      <td>0.000005</td>\n",
       "      <td>p_erdos_renyi</td>\n",
       "      <td>0.9</td>\n",
       "      <td>6</td>\n",
       "    </tr>\n",
       "    <tr>\n",
       "      <th>87</th>\n",
       "      <td>p_erdos_renyi = 0.9, run =7</td>\n",
       "      <td>0.000017</td>\n",
       "      <td>p_erdos_renyi</td>\n",
       "      <td>0.9</td>\n",
       "      <td>7</td>\n",
       "    </tr>\n",
       "    <tr>\n",
       "      <th>88</th>\n",
       "      <td>p_erdos_renyi = 0.9, run =8</td>\n",
       "      <td>0.000050</td>\n",
       "      <td>p_erdos_renyi</td>\n",
       "      <td>0.9</td>\n",
       "      <td>8</td>\n",
       "    </tr>\n",
       "    <tr>\n",
       "      <th>89</th>\n",
       "      <td>p_erdos_renyi = 0.9, run =9</td>\n",
       "      <td>0.000014</td>\n",
       "      <td>p_erdos_renyi</td>\n",
       "      <td>0.9</td>\n",
       "      <td>9</td>\n",
       "    </tr>\n",
       "  </tbody>\n",
       "</table>\n",
       "</div>"
      ],
      "text/plain": [
       "                          index  Final validation error      parameter  \\\n",
       "85  p_erdos_renyi = 0.9, run =5                0.000016  p_erdos_renyi   \n",
       "86  p_erdos_renyi = 0.9, run =6                0.000005  p_erdos_renyi   \n",
       "87  p_erdos_renyi = 0.9, run =7                0.000017  p_erdos_renyi   \n",
       "88  p_erdos_renyi = 0.9, run =8                0.000050  p_erdos_renyi   \n",
       "89  p_erdos_renyi = 0.9, run =9                0.000014  p_erdos_renyi   \n",
       "\n",
       "   parameter value  run number  \n",
       "85             0.9           5  \n",
       "86             0.9           6  \n",
       "87             0.9           7  \n",
       "88             0.9           8  \n",
       "89             0.9           9  "
      ]
     },
     "metadata": {},
     "output_type": "display_data"
    }
   ],
   "source": [
    "index=0  # select the file to load by changing this variable\n",
    "timestr=dates[index]\n",
    "loop_parameter=params[index]\n",
    "filename_suffix=str(loop_parameter) +'_sweep_'+ str(timestr)\n",
    "try:\n",
    "    w_df=pd.read_csv('frequency_results_'+ filename_suffix+'.csv',index_col=0)\n",
    "    f_df=pd.read_csv('coupling_function_results_'+ filename_suffix +'.csv',index_col=0)\n",
    "    A_df=pd.read_csv('adjacency_matrix_results_'+ filename_suffix +'.csv',index_col=0)\n",
    "    e_df=pd.read_csv('validation_error_results_'+ filename_suffix +'.csv',index_col=0)\n",
    "    w_df,A_df,f_df,e_df=update_data_frames(w_df,A_df,f_df,e_df)\n",
    "    if w_df['parameter'][0] in ['num_osc']:\n",
    "        w_df['parameter value']=w_df['parameter value'].astype(int)\n",
    "        A_df['parameter value']=A_df['parameter value'].astype(int)\n",
    "        f_df['parameter value']=f_df['parameter value'].astype(int)\n",
    "        e_df['parameter value']=e_df['parameter value'].astype(int)\n",
    "    elif w_df['parameter'][0] in ['\tp_erdos_renyi','sigma_freq']:\n",
    "        w_df['parameter value']=w_df['parameter value'].astype(float)\n",
    "        A_df['parameter value']=A_df['parameter value'].astype(float)\n",
    "        f_df['parameter value']=f_df['parameter value'].astype(float)\n",
    "        e_df['parameter value']=e_df['parameter value'].astype(float)\n",
    "    e_df=e_df.rename(columns={0:'Final validation error'})\n",
    "except:\n",
    "    print('Does not exist. Try again!')\n",
    "display(w_df.tail())\n",
    "display(A_df.tail())\n",
    "display(f_df.tail())\n",
    "display(e_df.tail())"
   ]
  },
  {
   "cell_type": "markdown",
   "metadata": {},
   "source": [
    "Now we import some custom plotting functions."
   ]
  },
  {
   "cell_type": "code",
   "execution_count": 5,
   "metadata": {},
   "outputs": [
    {
     "name": "stdout",
     "output_type": "stream",
     "text": [
      "Here are the columns you can plot:\n",
      "['Number of errors', 'Error rate', 'Area under ROC curve', 'Best f1 score', 'Threshold for best f1 score', 'Threshold range for >90.0% of best f1 score', 'Maximum absolute deviation', 'Mean absolute deviation', 'Maximum relative deviation (%)', 'Mean relative deviation (%)', 'Correlation', 'Area between predicted and true coupling function', 'Area between true coupling function and axis', 'Area ratio', 'Final validation error']\n"
     ]
    }
   ],
   "source": [
    "import plot_learning_results as plr\n",
    "import importlib as imp\n",
    "imp.reload(plr)\n",
    "columns=['Number of errors',\n",
    " 'Error rate',\n",
    " 'Area under ROC curve',\n",
    " 'Best f1 score',\n",
    " 'Threshold for best f1 score',\n",
    " 'Threshold range for >90.0% of best f1 score',\n",
    " 'Maximum absolute deviation',\n",
    " 'Mean absolute deviation',\n",
    " 'Maximum relative deviation (%)',\n",
    " 'Mean relative deviation (%)',\n",
    " 'Correlation',\n",
    " 'Area between predicted and true coupling function',\n",
    " 'Area between true coupling function and axis',\n",
    " 'Area ratio',\n",
    " 'Final validation error']\n",
    "print(\"Here are the columns you can plot:\")\n",
    "print(columns)"
   ]
  },
  {
   "cell_type": "markdown",
   "metadata": {},
   "source": [
    "Now we can select a subset of those columns and plot the results.  There are a few properties you might want to experiment with:\n",
    "* `figsize` sets the figure size.\n",
    "*  Since there are multiple runs for each network, you have the option of using either dot plots (`box=False`) or box plots (`box=True`) to group the points for each network.  \n",
    "* The `Threshold range for >90.0% of best f1 score` column has values for lower and upper bounds.  These are displayed using a bar chart.  You can set the width of the bars with the `bar_width` parameter."
   ]
  },
  {
   "cell_type": "code",
   "execution_count": 6,
   "metadata": {
    "scrolled": false
   },
   "outputs": [
    {
     "name": "stdout",
     "output_type": "stream",
     "text": [
      "Column: Number of errors\n"
     ]
    },
    {
     "data": {
      "image/png": "[encoded data removed]",
      "text/plain": [
       "<Figure size 1008x360 with 1 Axes>"
      ]
     },
     "metadata": {},
     "output_type": "display_data"
    },
    {
     "name": "stdout",
     "output_type": "stream",
     "text": [
      "Column: Error rate\n"
     ]
    },
    {
     "data": {
      "image/png": "[encoded data removed]",
      "text/plain": [
       "<Figure size 1008x360 with 1 Axes>"
      ]
     },
     "metadata": {},
     "output_type": "display_data"
    },
    {
     "name": "stdout",
     "output_type": "stream",
     "text": [
      "Column: Area under ROC curve\n"
     ]
    },
    {
     "data": {
      "image/png": "[encoded data removed]",
      "text/plain": [
       "<Figure size 1008x360 with 1 Axes>"
      ]
     },
     "metadata": {},
     "output_type": "display_data"
    },
    {
     "name": "stdout",
     "output_type": "stream",
     "text": [
      "Column: Best f1 score\n"
     ]
    },
    {
     "data": {
      "image/png": "[encoded data removed]",
      "text/plain": [
       "<Figure size 1008x360 with 1 Axes>"
      ]
     },
     "metadata": {},
     "output_type": "display_data"
    },
    {
     "name": "stdout",
     "output_type": "stream",
     "text": [
      "Column: Threshold for best f1 score\n"
     ]
    },
    {
     "data": {
      "image/png": "[encoded data removed]",
      "text/plain": [
       "<Figure size 1008x360 with 1 Axes>"
      ]
     },
     "metadata": {},
     "output_type": "display_data"
    },
    {
     "name": "stdout",
     "output_type": "stream",
     "text": [
      "Column: Threshold range for >90.0% of best f1 score\n"
     ]
    },
    {
     "data": {
      "image/png": "[encoded data removed]",
      "text/plain": [
       "<Figure size 1008x360 with 1 Axes>"
      ]
     },
     "metadata": {},
     "output_type": "display_data"
    }
   ],
   "source": [
    "k=6\n",
    "## single column\n",
    "columns_2_plot=[columns[k]]\n",
    "## multiple columns\n",
    "columns_2_plot=columns[0:6]\n",
    "\n",
    "for col in columns_2_plot:\n",
    "    print(\"Column:\", col)   \n",
    "    plr.plot_results(col,w_df,A_df,f_df,e_df,\n",
    "                 figsize=(14,5),\n",
    "                 box=False,\n",
    "                 bar_width=0.005)\n"
   ]
  },
  {
   "cell_type": "markdown",
   "metadata": {},
   "source": [
    "We can also plot only the results for the best run as measured by the validation error."
   ]
  },
  {
   "cell_type": "code",
   "execution_count": 7,
   "metadata": {
    "scrolled": false
   },
   "outputs": [
    {
     "name": "stdout",
     "output_type": "stream",
     "text": [
      "Column: Number of errors\n"
     ]
    },
    {
     "data": {
      "image/png": "[encoded data removed]",
      "text/plain": [
       "<Figure size 720x360 with 1 Axes>"
      ]
     },
     "metadata": {},
     "output_type": "display_data"
    },
    {
     "name": "stdout",
     "output_type": "stream",
     "text": [
      "Column: Error rate\n"
     ]
    },
    {
     "data": {
      "image/png": "[encoded data removed]",
      "text/plain": [
       "<Figure size 720x360 with 1 Axes>"
      ]
     },
     "metadata": {},
     "output_type": "display_data"
    },
    {
     "name": "stdout",
     "output_type": "stream",
     "text": [
      "Column: Area under ROC curve\n"
     ]
    },
    {
     "data": {
      "image/png": "[encoded data removed]",
      "text/plain": [
       "<Figure size 720x360 with 1 Axes>"
      ]
     },
     "metadata": {},
     "output_type": "display_data"
    },
    {
     "name": "stdout",
     "output_type": "stream",
     "text": [
      "Column: Best f1 score\n"
     ]
    },
    {
     "data": {
      "image/png": "[encoded data removed]",
      "text/plain": [
       "<Figure size 720x360 with 1 Axes>"
      ]
     },
     "metadata": {},
     "output_type": "display_data"
    },
    {
     "name": "stdout",
     "output_type": "stream",
     "text": [
      "Column: Threshold for best f1 score\n"
     ]
    },
    {
     "data": {
      "image/png": "[encoded data removed]",
      "text/plain": [
       "<Figure size 720x360 with 1 Axes>"
      ]
     },
     "metadata": {},
     "output_type": "display_data"
    },
    {
     "name": "stdout",
     "output_type": "stream",
     "text": [
      "Column: Threshold range for >90.0% of best f1 score\n"
     ]
    },
    {
     "data": {
      "image/png": "[encoded data removed]",
      "text/plain": [
       "<Figure size 720x360 with 1 Axes>"
      ]
     },
     "metadata": {},
     "output_type": "display_data"
    }
   ],
   "source": [
    "## single column\n",
    "columns_2_plot=[columns[k]]\n",
    "## multiple columns\n",
    "columns_2_plot=columns[0:6]\n",
    "for col in columns_2_plot:\n",
    "    print(\"Column:\", col)  \n",
    "    plr.plot_best(col,w_df,A_df,f_df,e_df,figsize=(14,5),bar_width=0.005)"
   ]
  },
  {
   "cell_type": "code",
   "execution_count": null,
   "metadata": {},
   "outputs": [],
   "source": []
  },
  {
   "cell_type": "code",
   "execution_count": null,
   "metadata": {},
   "outputs": [],
   "source": []
  },
  {
   "cell_type": "code",
   "execution_count": null,
   "metadata": {},
   "outputs": [],
   "source": []
  },
  {
   "cell_type": "code",
   "execution_count": null,
   "metadata": {},
   "outputs": [],
   "source": []
  },
  {
   "cell_type": "code",
   "execution_count": null,
   "metadata": {},
   "outputs": [],
   "source": []
  }
 ],
 "metadata": {
  "kernelspec": {
   "display_name": "Python 3",
   "language": "python",
   "name": "python3"
  },
  "language_info": {
   "codemirror_mode": {
    "name": "ipython",
    "version": 3
   },
   "file_extension": ".py",
   "mimetype": "text/x-python",
   "name": "python",
   "nbconvert_exporter": "python",
   "pygments_lexer": "ipython3",
   "version": "3.6.5"
  }
 },
 "nbformat": 4,
 "nbformat_minor": 2
}
